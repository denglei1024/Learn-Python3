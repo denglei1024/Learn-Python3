{
 "cells": [
  {
   "cell_type": "markdown",
   "id": "42fc107f",
   "metadata": {},
   "source": [
    "`r` 读取"
   ]
  },
  {
   "cell_type": "code",
   "execution_count": 8,
   "id": "06599449",
   "metadata": {},
   "outputs": [
    {
     "name": "stdout",
     "output_type": "stream",
     "text": [
      "我如果爱你\n",
      "绝不像攀援的凌霄花\n",
      "借你的高枝炫耀自己\n",
      "我如果爱你\n",
      "绝不为你的虚情而浪费\n",
      "\n"
     ]
    }
   ],
   "source": [
    "file = open('致橡树.txt', 'r', encoding='utf-8')\n",
    "print(file.read())\n",
    "file.close()\n"
   ]
  },
  {
   "cell_type": "markdown",
   "id": "507d1415",
   "metadata": {},
   "source": [
    "`w` 覆盖写入"
   ]
  },
  {
   "cell_type": "code",
   "execution_count": 4,
   "id": "605df169",
   "metadata": {},
   "outputs": [],
   "source": [
    "file = open('致橡树.txt', 'w', encoding='utf-8')\n",
    "file.write('我如果爱你\\n')\n",
    "file.write('绝不像攀援的凌霄花\\n')\n",
    "file.write('借你的高枝炫耀自己\\n')\n",
    "file.close()"
   ]
  },
  {
   "cell_type": "markdown",
   "id": "a73c6aa3",
   "metadata": {},
   "source": [
    "`a` 追加写入"
   ]
  },
  {
   "cell_type": "code",
   "execution_count": 7,
   "id": "ed491c06",
   "metadata": {},
   "outputs": [],
   "source": [
    "file = open('致橡树.txt', 'a', encoding='utf-8')\n",
    "file.write('我如果爱你\\n')\n",
    "file.write('绝不为你的虚情而浪费\\n')\n",
    "file.close()"
   ]
  },
  {
   "cell_type": "markdown",
   "id": "ef15387e",
   "metadata": {},
   "source": [
    "`with` 上下文管理器，可自动调用 `close` 方法"
   ]
  },
  {
   "cell_type": "code",
   "execution_count": 9,
   "id": "760527e6",
   "metadata": {},
   "outputs": [
    {
     "name": "stdout",
     "output_type": "stream",
     "text": [
      "我如果爱你\n",
      "绝不像攀援的凌霄花\n",
      "借你的高枝炫耀自己\n",
      "我如果爱你\n",
      "绝不为你的虚情而浪费\n",
      "\n"
     ]
    }
   ],
   "source": [
    "with open('致橡树.txt', 'r', encoding='utf-8') as file:\n",
    "    print(file.read())"
   ]
  },
  {
   "cell_type": "markdown",
   "id": "be3f0e50",
   "metadata": {},
   "source": [
    "`x` 创建文件，已存在会抛异常"
   ]
  },
  {
   "cell_type": "code",
   "execution_count": 10,
   "id": "73531242",
   "metadata": {},
   "outputs": [
    {
     "name": "stdout",
     "output_type": "stream",
     "text": [
      "文件已存在，无法创建新文件。\n"
     ]
    }
   ],
   "source": [
    "try:\n",
    "    with open('致橡树.txt', 'x', encoding='utf-8') as file:\n",
    "        print(file.read())\n",
    "except FileExistsError as e:\n",
    "    print('文件已存在，无法创建新文件。')"
   ]
  },
  {
   "cell_type": "markdown",
   "id": "c6851904",
   "metadata": {},
   "source": [
    "异常处理"
   ]
  },
  {
   "cell_type": "code",
   "execution_count": 11,
   "id": "f44bae05",
   "metadata": {},
   "outputs": [
    {
     "name": "stdout",
     "output_type": "stream",
     "text": [
      "文件不存在，无法复制。\n"
     ]
    }
   ],
   "source": [
    "try:\n",
    "    with open('不存在的文件.jpg', 'rb') as file1, open('致橡树.txt', 'wb') as file2:\n",
    "        file2.write(file1.read())\n",
    "except FileNotFoundError as e:\n",
    "    print('文件不存在，无法复制。')"
   ]
  }
 ],
 "metadata": {
  "kernelspec": {
   "display_name": "Python 3",
   "language": "python",
   "name": "python3"
  },
  "language_info": {
   "codemirror_mode": {
    "name": "ipython",
    "version": 3
   },
   "file_extension": ".py",
   "mimetype": "text/x-python",
   "name": "python",
   "nbconvert_exporter": "python",
   "pygments_lexer": "ipython3",
   "version": "3.11.3"
  }
 },
 "nbformat": 4,
 "nbformat_minor": 5
}
